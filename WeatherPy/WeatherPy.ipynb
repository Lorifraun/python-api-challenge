{
 "cells": [
  {
   "cell_type": "markdown",
   "metadata": {},
   "source": [
    "# WeatherPy\n",
    "----\n",
    "\n",
    "#### Note\n",
    "* Instructions have been included for each segment. You do not have to follow them exactly, but they are included to help you think through the steps."
   ]
  },
  {
   "cell_type": "code",
   "execution_count": 1,
   "metadata": {
    "scrolled": true
   },
   "outputs": [],
   "source": [
    "# Dependencies and Setup\n",
    "import matplotlib.pyplot as plt\n",
    "import pandas as pd\n",
    "import numpy as np\n",
    "import requests\n",
    "import time\n",
    "from scipy.stats import linregress\n",
    "import json\n",
    "from datetime import date\n",
    "\n",
    "# Import API key\n",
    "from api_keys import weather_api_key\n",
    "\n",
    "# Incorporated citipy to determine city based on latitude and longitude\n",
    "from citipy import citipy\n",
    "\n",
    "# Output File (CSV)\n",
    "output_data_file = \"output_data/cities.csv\"\n",
    "\n",
    "# Range of latitudes and longitudes\n",
    "lat_range = (-90, 90)\n",
    "lng_range = (-180, 180)"
   ]
  },
  {
   "cell_type": "markdown",
   "metadata": {},
   "source": [
    "## Generate Cities List"
   ]
  },
  {
   "cell_type": "code",
   "execution_count": 2,
   "metadata": {},
   "outputs": [
    {
     "data": {
      "text/plain": [
       "596"
      ]
     },
     "execution_count": 2,
     "metadata": {},
     "output_type": "execute_result"
    }
   ],
   "source": [
    "# List for holding lat_lngs and cities\n",
    "lat_lngs = []\n",
    "cities = []\n",
    "\n",
    "# Create a set of random lat and lng combinations\n",
    "lats = np.random.uniform(lat_range[0], lat_range[1], size=1500)\n",
    "lngs = np.random.uniform(lng_range[0], lng_range[1], size=1500)\n",
    "lat_lngs = zip(lats, lngs)\n",
    "\n",
    "# Identify nearest city for each lat, lng combination\n",
    "for lat_lng in lat_lngs:\n",
    "    city = citipy.nearest_city(lat_lng[0], lat_lng[1]).city_name\n",
    "    \n",
    "    # If the city is unique, then add it to a our cities list\n",
    "    if city not in cities:\n",
    "        cities.append(city)\n",
    "\n",
    "# Print the city count to confirm sufficient count\n",
    "len(cities)"
   ]
  },
  {
   "cell_type": "markdown",
   "metadata": {},
   "source": [
    "### Perform API Calls\n",
    "* Perform a weather check on each city using a series of successive API calls.\n",
    "* Include a print log of each city as it'sbeing processed (with the city number and city name).\n"
   ]
  },
  {
   "cell_type": "code",
   "execution_count": 2,
   "metadata": {},
   "outputs": [],
   "source": [
    "# cities = [\"Denver\", \"Tampa\", \"Seattle\" ]"
   ]
  },
  {
   "cell_type": "code",
   "execution_count": 3,
   "metadata": {},
   "outputs": [
    {
     "name": "stdout",
     "output_type": "stream",
     "text": [
      "process puerto colombia\n",
      "process yumen\n",
      "process anchorage\n",
      "process nikolskoye\n",
      "process cabo san lucas\n",
      "process vaini\n",
      "Missing field\n",
      "process panzhihua\n",
      "Missing field\n",
      "Missing field\n",
      "process dubbo\n",
      "process lebu\n",
      "process mataura\n",
      "process dikson\n",
      "process barrow\n",
      "process alofi\n",
      "process zyryanka\n",
      "process castro\n",
      "process sao filipe\n",
      "process salalah\n",
      "process deputatskiy\n",
      "process arraial do cabo\n",
      "process cidreira\n",
      "process nhulunbuy\n",
      "process saldanha\n",
      "process busselton\n",
      "process vostok\n",
      "process bethel\n",
      "process hambantota\n",
      "process baruun-urt\n",
      "Missing field\n",
      "process rikitea\n",
      "process lokachi\n",
      "Missing field\n",
      "process hermanus\n",
      "process faanui\n",
      "process jamestown\n",
      "process carnarvon\n",
      "process sabha\n",
      "process punta arenas\n",
      "process cape town\n",
      "Missing field\n",
      "process seoul\n",
      "Missing field\n",
      "process albany\n",
      "process mount isa\n",
      "process chokurdakh\n",
      "process michigan city\n",
      "process ushuaia\n",
      "process sorkjosen\n",
      "process tumen\n",
      "Missing field\n",
      "process victoria\n",
      "process puerto ayora\n",
      "process saint-philippe\n",
      "process vanimo\n",
      "process seydi\n",
      "process inirida\n",
      "process tomatlan\n",
      "process kodiak\n",
      "process yellowknife\n",
      "process svetlyy\n",
      "process lagoa\n",
      "process bluff\n",
      "process avarua\n",
      "process novosibirsk\n",
      "process east london\n",
      "process vestmanna\n",
      "process kemijarvi\n",
      "process baykit\n",
      "process bredasdorp\n",
      "process camacha\n",
      "process ingham\n",
      "process iranshahr\n",
      "Missing field\n",
      "Missing field\n",
      "process mar del plata\n",
      "process saskylakh\n",
      "process shirokiy\n",
      "process saint-augustin\n",
      "process boyolangu\n",
      "process waddan\n",
      "process atuona\n",
      "process umm lajj\n",
      "Missing field\n",
      "process madimba\n",
      "process biggar\n",
      "process pisco\n",
      "process verkh-usugli\n",
      "process college\n",
      "process port alfred\n",
      "process sitka\n",
      "Missing field\n",
      "process bambous virieux\n",
      "process hualmay\n",
      "process ostrovnoy\n",
      "process ballina\n",
      "process kapaa\n",
      "process keetmanshoop\n",
      "process butaritari\n",
      "process comodoro rivadavia\n",
      "process huarmey\n",
      "process alugan\n",
      "process muros\n",
      "process savannah bight\n",
      "process port elizabeth\n",
      "process plouzane\n",
      "process kavieng\n",
      "process goundam\n",
      "Missing field\n",
      "process tombouctou\n",
      "process murray bridge\n",
      "process krasnovishersk\n",
      "Missing field\n",
      "process new norfolk\n",
      "process quesnel\n",
      "process hilo\n",
      "process xuanzhou\n",
      "process vila franca do campo\n",
      "process tuatapere\n",
      "process lethem\n",
      "process dicabisagan\n",
      "process serenje\n",
      "process kalmunai\n",
      "process kimbe\n",
      "process phayakkhaphum phisai\n",
      "process ulladulla\n",
      "process kruisfontein\n",
      "process mahajanga\n",
      "process horta\n",
      "process nyurba\n",
      "process severo-kurilsk\n",
      "process nicoya\n",
      "process egvekinot\n",
      "process chuy\n",
      "process fortuna\n",
      "process sorland\n",
      "process darnetal\n",
      "process hirara\n",
      "process bonavista\n",
      "process mahibadhoo\n",
      "process bengkulu\n",
      "process qaanaaq\n",
      "process lompoc\n",
      "process mbigou\n",
      "process savino\n",
      "process marzuq\n",
      "process sur\n",
      "Missing field\n",
      "process digby\n",
      "process thompson\n",
      "process leningradskiy\n",
      "process sinjai\n",
      "process ulaanbaatar\n",
      "process emba\n",
      "process sola\n",
      "process jieshi\n",
      "process rocha\n",
      "process podgornoye\n",
      "process asau\n",
      "process bereznik\n",
      "process lasa\n",
      "Missing field\n",
      "process banmankhi\n",
      "process kaitangata\n",
      "process georgetown\n",
      "process port hardy\n",
      "process grand gaube\n",
      "process fort nelson\n",
      "process nuuk\n",
      "process clyde river\n",
      "process korla\n",
      "process hithadhoo\n",
      "process mitsamiouli\n",
      "process ustupo\n",
      "process le port\n",
      "process hobart\n",
      "process hervey bay\n",
      "process aswan\n",
      "process westport\n",
      "process eureka\n",
      "Missing field\n",
      "process kiama\n",
      "process ponta do sol\n",
      "process turiacu\n",
      "process saint george\n",
      "process nanortalik\n",
      "process honningsvag\n",
      "process cherskiy\n",
      "process zhangye\n",
      "process kaeo\n",
      "process meulaboh\n",
      "process filadelfia\n",
      "process shache\n",
      "process kwinana\n",
      "process khatanga\n",
      "Missing field\n",
      "Missing field\n",
      "Missing field\n",
      "process alta floresta\n",
      "process homer\n",
      "process garowe\n",
      "process pevek\n",
      "process taoudenni\n",
      "process nybro\n",
      "process benguela\n",
      "process tias\n",
      "process sao geraldo do araguaia\n",
      "process fort frances\n",
      "process erenhot\n",
      "process oneonta\n",
      "process esperance\n",
      "process presidencia roque saenz pena\n",
      "process ibra\n",
      "Missing field\n",
      "Missing field\n",
      "process ziarat\n",
      "Missing field\n",
      "process nelson bay\n",
      "process baldeogarh\n",
      "process vila velha\n",
      "process te anau\n",
      "process bilokurakyne\n",
      "process sosnovka\n",
      "process mackay\n",
      "process sabzevar\n",
      "process batemans bay\n",
      "process ketchikan\n",
      "process sergach\n",
      "process madoc\n",
      "process codrington\n",
      "process totness\n",
      "process chaplynka\n",
      "process luanda\n",
      "process san patricio\n",
      "process jalu\n",
      "process maxixe\n",
      "process tazovskiy\n",
      "process makakilo city\n",
      "process general roca\n",
      "Missing field\n",
      "process lukovetskiy\n",
      "process katsuura\n",
      "process flinders\n",
      "process bermeo\n",
      "process cedar city\n",
      "process lalibela\n",
      "process eydhafushi\n",
      "process kariba\n",
      "process dalmatovo\n",
      "process ribeira grande\n",
      "process lucea\n",
      "process sao gabriel da cachoeira\n",
      "process denpasar\n",
      "Missing field\n",
      "process bardiyah\n",
      "process airai\n",
      "process magugu\n",
      "process talnakh\n",
      "process vilhena\n",
      "process labuan\n",
      "process grindavik\n",
      "process lere\n",
      "process moose factory\n",
      "process narsaq\n",
      "process raduzhnyy\n",
      "process dingle\n",
      "process iqaluit\n",
      "process chisec\n",
      "process novoagansk\n",
      "process fairbanks\n",
      "process coquimbo\n",
      "process harenkarspel\n",
      "process tasiilaq\n",
      "Missing field\n",
      "process ilulissat\n",
      "Missing field\n",
      "process rawson\n",
      "process araouane\n",
      "process shulan\n",
      "process coihaique\n",
      "process razole\n",
      "process ikungi\n",
      "process natal\n",
      "process hamilton\n",
      "process tuktoyaktuk\n",
      "process touros\n",
      "process qandala\n",
      "process oxford\n",
      "process palmer\n",
      "process okha\n",
      "process qeshm\n",
      "Missing field\n",
      "Missing field\n",
      "process broome\n",
      "process klaksvik\n",
      "process san policarpo\n",
      "process manokwari\n",
      "process berlin\n",
      "process naze\n",
      "process ixtapa\n",
      "process sisimiut\n",
      "process dekernes\n",
      "process fare\n",
      "process souillac\n",
      "process vardo\n",
      "process terrace\n",
      "process buarcos\n",
      "process cruzeiro do sul\n",
      "process alice springs\n",
      "process yeppoon\n",
      "process umtata\n",
      "process guiglo\n",
      "process santa rosa\n",
      "process pishin\n",
      "process portland\n",
      "process guerrero negro\n",
      "process batticaloa\n",
      "process ahipara\n",
      "process torbay\n",
      "process robertsport\n",
      "process usinsk\n",
      "Missing field\n",
      "process ancud\n",
      "Missing field\n",
      "process murovane\n",
      "process escanaba\n",
      "process darab\n",
      "process waw\n",
      "process tecoanapa\n",
      "process hay river\n",
      "process ostersund\n",
      "process kavaratti\n",
      "process marawi\n",
      "process mahebourg\n",
      "process bowen\n",
      "process tucuman\n",
      "process leszno\n",
      "process beyneu\n",
      "process avera\n",
      "process pemangkat\n",
      "process pechenga\n",
      "process aklavik\n",
      "process marsaxlokk\n",
      "process khandyga\n",
      "process akyab\n",
      "process salur\n",
      "process nalut\n",
      "process shimizu\n",
      "process kahului\n",
      "process ucluelet\n",
      "process galle\n",
      "process beloha\n",
      "process faya\n",
      "process san ramon\n",
      "process kapoeta\n",
      "process jiaohe\n",
      "process labuhan\n",
      "process gazimurskiy zavod\n",
      "process palladam\n",
      "process floro\n",
      "process cayenne\n",
      "process mangrol\n",
      "process portel\n",
      "process haines junction\n",
      "Missing field\n",
      "process maine-soroa\n",
      "process scarborough\n",
      "Missing field\n",
      "process dali\n",
      "process mossendjo\n",
      "process gat\n",
      "process mareeba\n",
      "process arrecife\n",
      "process aykhal\n",
      "process raudeberg\n",
      "process karratha\n",
      "process ludvika\n",
      "process sal rei\n",
      "process takoradi\n",
      "process tiksi\n",
      "process vestmannaeyjar\n",
      "process dunedin\n",
      "process anloga\n",
      "process ohara\n",
      "process quatre cocos\n",
      "process businga\n",
      "process lorengau\n",
      "process hokitika\n",
      "process yulara\n",
      "process moree\n",
      "process danielskuil\n",
      "process fort smith\n",
      "Missing field\n",
      "process mogadishu\n",
      "process terney\n",
      "process saint-louis\n",
      "process mabaruma\n",
      "process ayan\n",
      "process basco\n",
      "process linxia\n",
      "process anyksciai\n",
      "process tulum\n",
      "process katangli\n",
      "process ulefoss\n",
      "process lavrentiya\n",
      "process hofn\n",
      "process tanabe\n",
      "process saint-francois\n",
      "process shakiso\n",
      "process contamana\n",
      "process graaff-reinet\n",
      "process dodge city\n",
      "process ouallam\n",
      "process mildura\n",
      "process sinnamary\n",
      "process ambulu\n",
      "process svetlaya\n",
      "process glasgow\n",
      "process manggar\n",
      "process mount gambier\n",
      "process soto la marina\n",
      "process jaswantnagar\n",
      "process cordele\n",
      "process puerto narino\n",
      "process petatlan\n",
      "process poli\n",
      "process gonbad-e qabus\n",
      "process sakakah\n",
      "Missing field\n",
      "process lamu\n",
      "process brunsbuttel\n",
      "process mayo\n",
      "Missing field\n",
      "process nome\n",
      "process neftcala\n",
      "process westerland\n",
      "process port-gentil\n",
      "process fuerte olimpo\n",
      "process bayir\n",
      "process yaan\n",
      "Missing field\n",
      "process puksoozero\n",
      "process imbituba\n",
      "process khasan\n",
      "process henties bay\n",
      "process cairns\n",
      "process guantanamo\n",
      "Missing field\n",
      "process arman\n",
      "process caravelas\n",
      "process richards bay\n",
      "process roald\n",
      "process hovd\n",
      "process antalaha\n",
      "process sabang\n",
      "process oussouye\n",
      "process geraldton\n",
      "process jutai\n",
      "Missing field\n",
      "Missing field\n",
      "process kalundborg\n",
      "process shepsi\n",
      "process riyadh\n",
      "process iracoubo\n",
      "process christchurch\n",
      "process sangar\n",
      "Missing field\n",
      "process upernavik\n",
      "process maues\n",
      "process baherden\n",
      "process poum\n",
      "process ruwi\n",
      "process am timan\n",
      "process puerto madryn\n",
      "process onega\n",
      "process uyar\n",
      "process dasoguz\n",
      "process sfantu gheorghe\n",
      "process harindanga\n",
      "process termoli\n",
      "process kota tinggi\n",
      "process pochutla\n",
      "process inta\n",
      "process alakurtti\n",
      "Missing field\n",
      "process beringovskiy\n",
      "process kodinsk\n"
     ]
    },
    {
     "name": "stdout",
     "output_type": "stream",
     "text": [
      "process lakewood\n",
      "process norman wells\n",
      "process kieta\n",
      "process gawler\n",
      "process arona\n",
      "Missing field\n",
      "process la asuncion\n",
      "process morro bay\n",
      "process namibe\n",
      "process qasigiannguit\n",
      "process tura\n",
      "process crestview\n",
      "process nouakchott\n",
      "process atar\n",
      "process flin flon\n",
      "process shyryayeve\n",
      "process del rio\n",
      "process luderitz\n",
      "process pinar del rio\n",
      "Missing field\n",
      "process sungairaya\n",
      "Missing field\n",
      "process mastic beach\n",
      "process lingao\n",
      "process aquitania\n",
      "process praia da vitoria\n",
      "process kaya\n",
      "process fairlie\n",
      "process bilibino\n",
      "process synya\n",
      "process malumfashi\n",
      "process mugango\n",
      "process tymovskoye\n",
      "Missing field\n",
      "process bandar-e lengeh\n",
      "process rundu\n",
      "process yidu\n",
      "Missing field\n",
      "process bakaly\n",
      "process lons-le-saunier\n",
      "process jaisalmer\n",
      "process olinda\n",
      "process samarai\n",
      "Missing field\n",
      "process suez\n",
      "process acarau\n",
      "process lashio\n",
      "process katobu\n",
      "process lewistown\n",
      "process cuiluan\n",
      "process villefranche-sur-saone\n",
      "process severo-yeniseyskiy\n",
      "process miles city\n",
      "process san jose\n",
      "process griffith\n",
      "process kuandian\n",
      "process ca mau\n",
      "process catamarca\n",
      "process traralgon\n",
      "process oga\n",
      "process kununurra\n",
      "process provideniya\n",
      "Missing field\n",
      "Missing field\n",
      "process omachi\n",
      "process chardara\n",
      "process kysyl-syr\n",
      "process tres arroyos\n",
      "process opopeo\n",
      "process wanning\n",
      "Missing field\n",
      "process jaffna\n",
      "process dunda\n",
      "process newport\n",
      "process viedma\n",
      "process ayr\n",
      "process sorong\n",
      "process kailua\n",
      "process slatina\n",
      "process saint-pierre\n",
      "process husavik\n",
      "process bandarbeyla\n",
      "process corinto\n",
      "process nipani\n",
      "process meadow lake\n",
      "process longyearbyen\n",
      "process georgiyevka\n",
      "process haifa\n",
      "process goderich\n",
      "process novobirilyussy\n",
      "process pimentel\n",
      "process mirnyy\n",
      "process chudniv\n",
      "process santiago del estero\n",
      "process teknaf\n",
      "process celestun\n",
      "process nigel\n",
      "process bafq\n",
      "process qaqortoq\n",
      "process kuryk\n",
      "process trujillo\n",
      "process trairi\n",
      "process salme\n",
      "process wellington\n",
      "process tolaga bay\n",
      "process okhotsk\n",
      "process marsh harbour\n",
      "process jumla\n"
     ]
    }
   ],
   "source": [
    "url = \"http://api.openweathermap.org/data/2.5/weather?\"\n",
    "units = \"imperial\"\n",
    "\n",
    "\n",
    "# Build partial query URL\n",
    "query_url = f\"{url}appid={weather_api_key}&units={units}&q=\"\n",
    "\n",
    "\n",
    "#Lists for holding required items\n",
    "city_name = []\n",
    "lat = []\n",
    "lng = []\n",
    "temp = []\n",
    "humid = []\n",
    "clouds = []\n",
    "wind = []\n",
    "country = []\n",
    "date = []\n",
    "\n",
    "\n",
    "for city in cities:\n",
    "    weather_data = requests.get(query_url + city).json()\n",
    "    \n",
    "    try:\n",
    "        \n",
    "        city_name.append(weather_data['name'])\n",
    "        lat.append(weather_data['coord']['lat'])\n",
    "        lng.append(weather_data['coord']['lon'])\n",
    "        temp.append(weather_data['main']['temp'])\n",
    "        humid.append(weather_data['main']['humidity'])\n",
    "        clouds.append(weather_data['clouds']['all'])\n",
    "        wind.append(weather_data['wind']['speed'])\n",
    "        country.append(weather_data['sys']['country'])\n",
    "        date.append(weather_data['dt'])\n",
    "        \n",
    "        print(f\"process {city}\")\n",
    "            \n",
    "    except KeyError:\n",
    "       print('Missing field')\n",
    "        \n"
   ]
  },
  {
   "cell_type": "code",
   "execution_count": 4,
   "metadata": {
    "scrolled": true
   },
   "outputs": [
    {
     "data": {
      "text/plain": [
       "545"
      ]
     },
     "execution_count": 4,
     "metadata": {},
     "output_type": "execute_result"
    }
   ],
   "source": [
    "len(temp) "
   ]
  },
  {
   "cell_type": "code",
   "execution_count": 5,
   "metadata": {},
   "outputs": [
    {
     "data": {
      "text/plain": [
       "545"
      ]
     },
     "execution_count": 5,
     "metadata": {},
     "output_type": "execute_result"
    }
   ],
   "source": [
    "len(city_name)"
   ]
  },
  {
   "cell_type": "markdown",
   "metadata": {},
   "source": [
    "### Convert Raw Data to DataFrame\n",
    "* Export the city data into a .csv.\n",
    "* Display the DataFrame"
   ]
  },
  {
   "cell_type": "code",
   "execution_count": 6,
   "metadata": {},
   "outputs": [
    {
     "data": {
      "text/html": [
       "<div>\n",
       "<style scoped>\n",
       "    .dataframe tbody tr th:only-of-type {\n",
       "        vertical-align: middle;\n",
       "    }\n",
       "\n",
       "    .dataframe tbody tr th {\n",
       "        vertical-align: top;\n",
       "    }\n",
       "\n",
       "    .dataframe thead th {\n",
       "        text-align: right;\n",
       "    }\n",
       "</style>\n",
       "<table border=\"1\" class=\"dataframe\">\n",
       "  <thead>\n",
       "    <tr style=\"text-align: right;\">\n",
       "      <th></th>\n",
       "      <th>City</th>\n",
       "      <th>Latitude</th>\n",
       "      <th>Longitude</th>\n",
       "      <th>Temperature</th>\n",
       "      <th>Humidity</th>\n",
       "      <th>Cloudiness</th>\n",
       "      <th>Wind Speed</th>\n",
       "      <th>Country</th>\n",
       "      <th>Date</th>\n",
       "    </tr>\n",
       "  </thead>\n",
       "  <tbody>\n",
       "    <tr>\n",
       "      <th>0</th>\n",
       "      <td>Puerto Colombia</td>\n",
       "      <td>10.9878</td>\n",
       "      <td>-74.9547</td>\n",
       "      <td>87.66</td>\n",
       "      <td>74</td>\n",
       "      <td>99</td>\n",
       "      <td>20.36</td>\n",
       "      <td>CO</td>\n",
       "      <td>1620848237</td>\n",
       "    </tr>\n",
       "    <tr>\n",
       "      <th>1</th>\n",
       "      <td>Yumen</td>\n",
       "      <td>40.2833</td>\n",
       "      <td>97.2000</td>\n",
       "      <td>58.86</td>\n",
       "      <td>25</td>\n",
       "      <td>62</td>\n",
       "      <td>10.47</td>\n",
       "      <td>CN</td>\n",
       "      <td>1620848237</td>\n",
       "    </tr>\n",
       "    <tr>\n",
       "      <th>2</th>\n",
       "      <td>Anchorage</td>\n",
       "      <td>61.2181</td>\n",
       "      <td>-149.9003</td>\n",
       "      <td>48.16</td>\n",
       "      <td>53</td>\n",
       "      <td>1</td>\n",
       "      <td>0.00</td>\n",
       "      <td>US</td>\n",
       "      <td>1620848168</td>\n",
       "    </tr>\n",
       "    <tr>\n",
       "      <th>3</th>\n",
       "      <td>Nikolskoye</td>\n",
       "      <td>59.7035</td>\n",
       "      <td>30.7861</td>\n",
       "      <td>64.02</td>\n",
       "      <td>72</td>\n",
       "      <td>1</td>\n",
       "      <td>3.85</td>\n",
       "      <td>RU</td>\n",
       "      <td>1620848238</td>\n",
       "    </tr>\n",
       "    <tr>\n",
       "      <th>4</th>\n",
       "      <td>Cabo San Lucas</td>\n",
       "      <td>22.8909</td>\n",
       "      <td>-109.9124</td>\n",
       "      <td>90.12</td>\n",
       "      <td>37</td>\n",
       "      <td>20</td>\n",
       "      <td>8.05</td>\n",
       "      <td>MX</td>\n",
       "      <td>1620848211</td>\n",
       "    </tr>\n",
       "  </tbody>\n",
       "</table>\n",
       "</div>"
      ],
      "text/plain": [
       "              City  Latitude  Longitude  Temperature  Humidity  Cloudiness  \\\n",
       "0  Puerto Colombia   10.9878   -74.9547        87.66        74          99   \n",
       "1            Yumen   40.2833    97.2000        58.86        25          62   \n",
       "2        Anchorage   61.2181  -149.9003        48.16        53           1   \n",
       "3       Nikolskoye   59.7035    30.7861        64.02        72           1   \n",
       "4   Cabo San Lucas   22.8909  -109.9124        90.12        37          20   \n",
       "\n",
       "   Wind Speed Country        Date  \n",
       "0       20.36      CO  1620848237  \n",
       "1       10.47      CN  1620848237  \n",
       "2        0.00      US  1620848168  \n",
       "3        3.85      RU  1620848238  \n",
       "4        8.05      MX  1620848211  "
      ]
     },
     "execution_count": 6,
     "metadata": {},
     "output_type": "execute_result"
    }
   ],
   "source": [
    "#Create a dataframe s\n",
    "city_data_df = pd.DataFrame({'City': city_name,\n",
    "                            'Latitude': lat,\n",
    "                            'Longitude': lng,\n",
    "                            'Temperature': temp,\n",
    "                            'Humidity': humid,\n",
    "                            'Cloudiness': clouds,\n",
    "                            'Wind Speed': wind,\n",
    "                            'Country': country,\n",
    "                            'Date':date})\n",
    "\n",
    "city_data_df.head()\n",
    "\n"
   ]
  },
  {
   "cell_type": "code",
   "execution_count": 7,
   "metadata": {},
   "outputs": [
    {
     "data": {
      "text/html": [
       "<div>\n",
       "<style scoped>\n",
       "    .dataframe tbody tr th:only-of-type {\n",
       "        vertical-align: middle;\n",
       "    }\n",
       "\n",
       "    .dataframe tbody tr th {\n",
       "        vertical-align: top;\n",
       "    }\n",
       "\n",
       "    .dataframe thead th {\n",
       "        text-align: right;\n",
       "    }\n",
       "</style>\n",
       "<table border=\"1\" class=\"dataframe\">\n",
       "  <thead>\n",
       "    <tr style=\"text-align: right;\">\n",
       "      <th></th>\n",
       "      <th>City</th>\n",
       "      <th>Latitude</th>\n",
       "      <th>Longitude</th>\n",
       "      <th>Temperature</th>\n",
       "      <th>Humidity</th>\n",
       "      <th>Cloudiness</th>\n",
       "      <th>Wind Speed</th>\n",
       "      <th>Country</th>\n",
       "      <th>Date</th>\n",
       "    </tr>\n",
       "  </thead>\n",
       "  <tbody>\n",
       "    <tr>\n",
       "      <th>0</th>\n",
       "      <td>Puerto Colombia</td>\n",
       "      <td>10.9878</td>\n",
       "      <td>-74.9547</td>\n",
       "      <td>87.66</td>\n",
       "      <td>74</td>\n",
       "      <td>99</td>\n",
       "      <td>20.36</td>\n",
       "      <td>CO</td>\n",
       "      <td>1620848237</td>\n",
       "    </tr>\n",
       "    <tr>\n",
       "      <th>1</th>\n",
       "      <td>Yumen</td>\n",
       "      <td>40.2833</td>\n",
       "      <td>97.2000</td>\n",
       "      <td>58.86</td>\n",
       "      <td>25</td>\n",
       "      <td>62</td>\n",
       "      <td>10.47</td>\n",
       "      <td>CN</td>\n",
       "      <td>1620848237</td>\n",
       "    </tr>\n",
       "    <tr>\n",
       "      <th>2</th>\n",
       "      <td>Anchorage</td>\n",
       "      <td>61.2181</td>\n",
       "      <td>-149.9003</td>\n",
       "      <td>48.16</td>\n",
       "      <td>53</td>\n",
       "      <td>1</td>\n",
       "      <td>0.00</td>\n",
       "      <td>US</td>\n",
       "      <td>1620848168</td>\n",
       "    </tr>\n",
       "    <tr>\n",
       "      <th>3</th>\n",
       "      <td>Nikolskoye</td>\n",
       "      <td>59.7035</td>\n",
       "      <td>30.7861</td>\n",
       "      <td>64.02</td>\n",
       "      <td>72</td>\n",
       "      <td>1</td>\n",
       "      <td>3.85</td>\n",
       "      <td>RU</td>\n",
       "      <td>1620848238</td>\n",
       "    </tr>\n",
       "    <tr>\n",
       "      <th>4</th>\n",
       "      <td>Cabo San Lucas</td>\n",
       "      <td>22.8909</td>\n",
       "      <td>-109.9124</td>\n",
       "      <td>90.12</td>\n",
       "      <td>37</td>\n",
       "      <td>20</td>\n",
       "      <td>8.05</td>\n",
       "      <td>MX</td>\n",
       "      <td>1620848211</td>\n",
       "    </tr>\n",
       "  </tbody>\n",
       "</table>\n",
       "</div>"
      ],
      "text/plain": [
       "              City  Latitude  Longitude  Temperature  Humidity  Cloudiness  \\\n",
       "0  Puerto Colombia   10.9878   -74.9547        87.66        74          99   \n",
       "1            Yumen   40.2833    97.2000        58.86        25          62   \n",
       "2        Anchorage   61.2181  -149.9003        48.16        53           1   \n",
       "3       Nikolskoye   59.7035    30.7861        64.02        72           1   \n",
       "4   Cabo San Lucas   22.8909  -109.9124        90.12        37          20   \n",
       "\n",
       "   Wind Speed Country        Date  \n",
       "0       20.36      CO  1620848237  \n",
       "1       10.47      CN  1620848237  \n",
       "2        0.00      US  1620848168  \n",
       "3        3.85      RU  1620848238  \n",
       "4        8.05      MX  1620848211  "
      ]
     },
     "execution_count": 7,
     "metadata": {},
     "output_type": "execute_result"
    }
   ],
   "source": [
    "#Save dataframe as csv\n",
    "pd.DataFrame.to_csv(city_data_df, 'city_data.csv')\n",
    "\n",
    "city_data_df.head()"
   ]
  },
  {
   "cell_type": "code",
   "execution_count": null,
   "metadata": {},
   "outputs": [],
   "source": []
  },
  {
   "cell_type": "markdown",
   "metadata": {},
   "source": [
    "## Inspect the data and remove the cities where the humidity > 100%.\n",
    "----\n",
    "Skip this step if there are no cities that have humidity > 100%. "
   ]
  },
  {
   "cell_type": "code",
   "execution_count": null,
   "metadata": {},
   "outputs": [],
   "source": []
  },
  {
   "cell_type": "code",
   "execution_count": 17,
   "metadata": {},
   "outputs": [
    {
     "ename": "TypeError",
     "evalue": "string indices must be integers",
     "output_type": "error",
     "traceback": [
      "\u001b[1;31m---------------------------------------------------------------------------\u001b[0m",
      "\u001b[1;31mTypeError\u001b[0m                                 Traceback (most recent call last)",
      "\u001b[1;32m<ipython-input-17-28e6b00dd5ca>\u001b[0m in \u001b[0;36m<module>\u001b[1;34m\u001b[0m\n\u001b[0;32m      1\u001b[0m \u001b[1;31m#  Get the indices of cities that have humidity over 100%.\u001b[0m\u001b[1;33m\u001b[0m\u001b[1;33m\u001b[0m\u001b[1;33m\u001b[0m\u001b[0m\n\u001b[1;32m----> 2\u001b[1;33m \u001b[0mtest_stats\u001b[0m \u001b[1;33m=\u001b[0m \u001b[0mcity\u001b[0m\u001b[1;33m[\u001b[0m\u001b[1;34m\"Humidity (%)\"\u001b[0m\u001b[1;33m]\u001b[0m\u001b[1;33m.\u001b[0m\u001b[0mdescribe\u001b[0m\u001b[1;33m(\u001b[0m\u001b[0minclude\u001b[0m \u001b[1;33m=\u001b[0m \u001b[1;34m\"all\"\u001b[0m\u001b[1;33m)\u001b[0m\u001b[1;33m\u001b[0m\u001b[1;33m\u001b[0m\u001b[0m\n\u001b[0m\u001b[0;32m      3\u001b[0m \u001b[0mprint\u001b[0m\u001b[1;33m(\u001b[0m\u001b[1;34m\"By inspection, the maximum humidity value is 100%, so there are no values greater than 100% in our data!\"\u001b[0m\u001b[1;33m)\u001b[0m\u001b[1;33m\u001b[0m\u001b[1;33m\u001b[0m\u001b[0m\n\u001b[0;32m      4\u001b[0m \u001b[0mtest_stats\u001b[0m\u001b[1;33m\u001b[0m\u001b[1;33m\u001b[0m\u001b[0m\n\u001b[0;32m      5\u001b[0m \u001b[1;33m\u001b[0m\u001b[0m\n",
      "\u001b[1;31mTypeError\u001b[0m: string indices must be integers"
     ]
    }
   ],
   "source": [
    "#  Get the indices of cities that have humidity over 100%.\n",
    "\n",
    "\n",
    "# remaining_cities[\"Humidity (%)\"].value_counts()"
   ]
  },
  {
   "cell_type": "code",
   "execution_count": null,
   "metadata": {},
   "outputs": [],
   "source": [
    "# Make a new DataFrame equal to the city data to drop all humidity outliers by index.\n",
    "# Passing \"inplace=False\" will make a copy of the city_data DataFrame, which we call \"clean_city_data\".\n"
   ]
  },
  {
   "cell_type": "code",
   "execution_count": null,
   "metadata": {},
   "outputs": [],
   "source": [
    "\n"
   ]
  },
  {
   "cell_type": "markdown",
   "metadata": {},
   "source": [
    "## Plotting the Data\n",
    "* Use proper labeling of the plots using plot titles (including date of analysis) and axes labels.\n",
    "* Save the plotted figures as .pngs."
   ]
  },
  {
   "cell_type": "markdown",
   "metadata": {},
   "source": [
    "## Latitude vs. Temperature Plot"
   ]
  },
  {
   "cell_type": "code",
   "execution_count": 9,
   "metadata": {},
   "outputs": [
    {
     "data": {
      "image/png": "[encoded data removed]",
      "text/plain": [
       "<Figure size 432x288 with 1 Axes>"
      ]
     },
     "metadata": {
      "needs_background": "light"
     },
     "output_type": "display_data"
    }
   ],
   "source": [
    "#Plot latitude vs temperature and save as .png\n",
    "plt.scatter(city_data_df['Latitude'], city_data_df['Temperature'])\n",
    "plt.title(f'Latitude vs. Temperature')\n",
    "plt.xlabel('Latitude')\n",
    "plt.ylabel('Temperature (F)')\n",
    "plt.grid(True)\n",
    "plt.savefig('lat_temp.png', bbox_inches='tight')\n"
   ]
  },
  {
   "cell_type": "code",
   "execution_count": null,
   "metadata": {
    "scrolled": true
   },
   "outputs": [],
   "source": [
    "# Relationship between latitude and temperature. As you approach the equator the temperature gets hotter."
   ]
  },
  {
   "cell_type": "code",
   "execution_count": null,
   "metadata": {
    "scrolled": true
   },
   "outputs": [],
   "source": []
  },
  {
   "cell_type": "markdown",
   "metadata": {},
   "source": [
    "## Latitude vs. Humidity Plot"
   ]
  },
  {
   "cell_type": "code",
   "execution_count": 10,
   "metadata": {},
   "outputs": [
    {
     "data": {
      "image/png": "[encoded data removed]",
      "text/plain": [
       "<Figure size 432x288 with 1 Axes>"
      ]
     },
     "metadata": {
      "needs_background": "light"
     },
     "output_type": "display_data"
    }
   ],
   "source": [
    "#Plot latitude vs humidity and save as .png\n",
    "plt.scatter(city_data_df['Latitude'], city_data_df['Humidity'])\n",
    "plt.title(f'Latitude vs. Humidity')\n",
    "plt.xlabel('Latitude')\n",
    "plt.ylabel('Humidity (%)')\n",
    "plt.grid(True)\n",
    "plt.savefig('lat_humid.png', bbox_inches='tight')\n"
   ]
  },
  {
   "cell_type": "code",
   "execution_count": null,
   "metadata": {},
   "outputs": [],
   "source": [
    "#Relationship between latitude and humidity. Lacking correlation."
   ]
  },
  {
   "cell_type": "markdown",
   "metadata": {},
   "source": [
    "## Latitude vs. Cloudiness Plot"
   ]
  },
  {
   "cell_type": "code",
   "execution_count": 11,
   "metadata": {},
   "outputs": [
    {
     "data": {
      "image/png": "[encoded data removed]",
      "text/plain": [
       "<Figure size 432x288 with 1 Axes>"
      ]
     },
     "metadata": {
      "needs_background": "light"
     },
     "output_type": "display_data"
    }
   ],
   "source": [
    "#Plot latitude vs cloudiness and save as .png\n",
    "plt.scatter(city_data_df['Latitude'], city_data_df['Cloudiness'])\n",
    "plt.title(f'Latitude vs. Cloudiness')\n",
    "plt.xlabel('Latitude')\n",
    "plt.ylabel('Cloudiness (%)')\n",
    "plt.grid(True)\n",
    "plt.savefig('lat_cloud.png', bbox_inches='tight')\n"
   ]
  },
  {
   "cell_type": "code",
   "execution_count": null,
   "metadata": {
    "scrolled": true
   },
   "outputs": [],
   "source": [
    "# Relationship between latitude and Cloudiness. Lacking correlation."
   ]
  },
  {
   "cell_type": "markdown",
   "metadata": {},
   "source": [
    "## Latitude vs. Wind Speed Plot"
   ]
  },
  {
   "cell_type": "code",
   "execution_count": 12,
   "metadata": {},
   "outputs": [
    {
     "data": {
      "image/png": "[encoded data removed]",
      "text/plain": [
       "<Figure size 432x288 with 1 Axes>"
      ]
     },
     "metadata": {
      "needs_background": "light"
     },
     "output_type": "display_data"
    }
   ],
   "source": [
    "#Plot latitude vs wind speed and save as .png\n",
    "plt.scatter(city_data_df['Latitude'], city_data_df['Wind Speed'])\n",
    "plt.title(f'Latitude vs. Wind Speed')\n",
    "plt.xlabel('Latitude')\n",
    "plt.ylabel('Wind Speed (mph)')\n",
    "plt.grid(True)\n",
    "plt.savefig('lat_wind.png', bbox_inches='tight')\n"
   ]
  },
  {
   "cell_type": "code",
   "execution_count": null,
   "metadata": {},
   "outputs": [],
   "source": [
    "#Relationship between latitude and wind speed. Wind speeds are greater the farther away from the equator."
   ]
  },
  {
   "cell_type": "markdown",
   "metadata": {},
   "source": [
    "## Linear Regression"
   ]
  },
  {
   "cell_type": "code",
   "execution_count": 24,
   "metadata": {},
   "outputs": [],
   "source": [
    "#create northern and southern df\n",
    "north_df = city_data_df.loc[(city_data_df['Latitude']>0)]\n",
    "south_df = city_data_df.loc[(city_data_df['Latitude'] < 0)]"
   ]
  },
  {
   "cell_type": "code",
   "execution_count": 25,
   "metadata": {},
   "outputs": [],
   "source": [
    "def line_regr(x, y,yaxis):\n",
    "    \n",
    "    (slope, intercept, rvalue, pvalue, stderr) = linregress(x, y)\n",
    "    y_pred = intercept + slope*x\n",
    "    line_eq = \"y = \" + str(round(slope,2)) + \"x + \" + str(round(intercept,2))\n",
    "\n",
    "    # Plot\n",
    "    plt.scatter(x,y)\n",
    "    plt.plot(x,y_pred,\"r-\")\n",
    "    plt.xlabel('Latitude')\n",
    "    plt.ylabel(yaxis)\n",
    "    print(f\"r-squared: {rvalue}\")\n",
    "    plt.show()"
   ]
  },
  {
   "cell_type": "code",
   "execution_count": null,
   "metadata": {},
   "outputs": [],
   "source": []
  },
  {
   "cell_type": "markdown",
   "metadata": {},
   "source": [
    "####  Northern Hemisphere - Max Temp vs. Latitude Linear Regression"
   ]
  },
  {
   "cell_type": "code",
   "execution_count": 29,
   "metadata": {},
   "outputs": [
    {
     "name": "stdout",
     "output_type": "stream",
     "text": [
      "r-squared: -0.8409505008175437\n"
     ]
    },
    {
     "data": {
      "image/png": "[encoded data removed]",
      "text/plain": [
       "<Figure size 432x288 with 1 Axes>"
      ]
     },
     "metadata": {
      "needs_background": "light"
     },
     "output_type": "display_data"
    },
    {
     "data": {
      "text/plain": [
       "<Figure size 432x288 with 0 Axes>"
      ]
     },
     "metadata": {},
     "output_type": "display_data"
    }
   ],
   "source": [
    "#Northern Hemisphere - Temperature vs. Latitude\n",
    "x = north_df['Latitude']\n",
    "y = north_df['Temperature']\n",
    "line_regr(x,y,'Temperature')\n",
    "\n",
    "plt.savefig(\"NH_temp_vs_lat.png\")"
   ]
  },
  {
   "cell_type": "markdown",
   "metadata": {},
   "source": [
    "####  Southern Hemisphere - Max Temp vs. Latitude Linear Regression"
   ]
  },
  {
   "cell_type": "code",
   "execution_count": 31,
   "metadata": {},
   "outputs": [
    {
     "name": "stdout",
     "output_type": "stream",
     "text": [
      "r-squared: 0.7624049786967076\n"
     ]
    },
    {
     "data": {
      "image/png": "[encoded data removed]",
      "text/plain": [
       "<Figure size 432x288 with 1 Axes>"
      ]
     },
     "metadata": {
      "needs_background": "light"
     },
     "output_type": "display_data"
    },
    {
     "data": {
      "text/plain": [
       "<Figure size 432x288 with 0 Axes>"
      ]
     },
     "metadata": {},
     "output_type": "display_data"
    }
   ],
   "source": [
    "#Southern Hemisphere - Temperature vs. Latitude\n",
    "x = south_df['Latitude']\n",
    "y = south_df['Temperature']\n",
    "line_regr(x,y,'Temperature')\n",
    "\n",
    "plt.savefig(\"SH_temp_vs_lat.png\")"
   ]
  },
  {
   "cell_type": "code",
   "execution_count": null,
   "metadata": {},
   "outputs": [],
   "source": [
    "#In the Northern hemisphere, temperatures decrease the further away from the equator. While temperatures increase the closer to the equator in the Southern hemisphere."
   ]
  },
  {
   "cell_type": "markdown",
   "metadata": {},
   "source": [
    "####  Northern Hemisphere - Humidity (%) vs. Latitude Linear Regression"
   ]
  },
  {
   "cell_type": "code",
   "execution_count": 32,
   "metadata": {},
   "outputs": [
    {
     "name": "stdout",
     "output_type": "stream",
     "text": [
      "r-squared: 0.17751953899672326\n"
     ]
    },
    {
     "data": {
      "image/png": "[encoded data removed]",
      "text/plain": [
       "<Figure size 432x288 with 1 Axes>"
      ]
     },
     "metadata": {
      "needs_background": "light"
     },
     "output_type": "display_data"
    },
    {
     "data": {
      "text/plain": [
       "<Figure size 432x288 with 0 Axes>"
      ]
     },
     "metadata": {},
     "output_type": "display_data"
    }
   ],
   "source": [
    "#Northern Hemisphere - Humidity vs. Latitude \n",
    "x = north_df['Latitude']\n",
    "y = north_df['Humidity']\n",
    "line_regr(x,y,'Humidity')\n",
    "\n",
    "plt.savefig(\"NH_hum_vs_lat.png\")"
   ]
  },
  {
   "cell_type": "markdown",
   "metadata": {},
   "source": [
    "####  Southern Hemisphere - Humidity (%) vs. Latitude Linear Regression"
   ]
  },
  {
   "cell_type": "code",
   "execution_count": 34,
   "metadata": {},
   "outputs": [
    {
     "name": "stdout",
     "output_type": "stream",
     "text": [
      "r-squared: 0.29031911378764336\n"
     ]
    },
    {
     "data": {
      "image/png": "[encoded data removed]",
      "text/plain": [
       "<Figure size 432x288 with 1 Axes>"
      ]
     },
     "metadata": {
      "needs_background": "light"
     },
     "output_type": "display_data"
    },
    {
     "data": {
      "text/plain": [
       "<Figure size 432x288 with 0 Axes>"
      ]
     },
     "metadata": {},
     "output_type": "display_data"
    }
   ],
   "source": [
    "#Southern Hemisphere - Humidity vs. Latitude \n",
    "x = south_df['Latitude']\n",
    "y = south_df['Humidity']\n",
    "line_regr(x,y,'Humidity')\n",
    "\n",
    "plt.savefig(\"SH_hum_vs_lat.png\")"
   ]
  },
  {
   "cell_type": "code",
   "execution_count": null,
   "metadata": {},
   "outputs": [],
   "source": [
    "#There shows very little correlation."
   ]
  },
  {
   "cell_type": "markdown",
   "metadata": {},
   "source": [
    "####  Northern Hemisphere - Cloudiness (%) vs. Latitude Linear Regression"
   ]
  },
  {
   "cell_type": "code",
   "execution_count": 35,
   "metadata": {},
   "outputs": [
    {
     "name": "stdout",
     "output_type": "stream",
     "text": [
      "r-squared: 0.05384322876230766\n"
     ]
    },
    {
     "data": {
      "image/png": "[encoded data removed]",
      "text/plain": [
       "<Figure size 432x288 with 1 Axes>"
      ]
     },
     "metadata": {
      "needs_background": "light"
     },
     "output_type": "display_data"
    },
    {
     "data": {
      "text/plain": [
       "<Figure size 432x288 with 0 Axes>"
      ]
     },
     "metadata": {},
     "output_type": "display_data"
    }
   ],
   "source": [
    "#Northern Hemisphere - Cloudiness vs. Latitude \n",
    "x = north_df['Latitude']\n",
    "y = north_df['Cloudiness']\n",
    "line_regr(x,y,'Cloudiness')\n",
    "\n",
    "plt.savefig(\"NH_cloud_vs_lat.png\")"
   ]
  },
  {
   "cell_type": "markdown",
   "metadata": {},
   "source": [
    "####  Southern Hemisphere - Cloudiness (%) vs. Latitude Linear Regression"
   ]
  },
  {
   "cell_type": "code",
   "execution_count": 36,
   "metadata": {},
   "outputs": [
    {
     "name": "stdout",
     "output_type": "stream",
     "text": [
      "r-squared: 0.2572332607817951\n"
     ]
    },
    {
     "data": {
      "image/png": "[encoded data removed]",
      "text/plain": [
       "<Figure size 432x288 with 1 Axes>"
      ]
     },
     "metadata": {
      "needs_background": "light"
     },
     "output_type": "display_data"
    },
    {
     "data": {
      "text/plain": [
       "<Figure size 432x288 with 0 Axes>"
      ]
     },
     "metadata": {},
     "output_type": "display_data"
    }
   ],
   "source": [
    "#Southern Hemisphere - Cloudiness vs. Latitude\n",
    "x = south_df['Latitude']\n",
    "y = south_df['Cloudiness']\n",
    "line_regr(x,y,'Cloudiness')\n",
    "\n",
    "plt.savefig(\"SH_cloud_vs_lat.png\")"
   ]
  },
  {
   "cell_type": "code",
   "execution_count": null,
   "metadata": {},
   "outputs": [],
   "source": [
    "#There shows very little correlation."
   ]
  },
  {
   "cell_type": "markdown",
   "metadata": {},
   "source": [
    "####  Northern Hemisphere - Wind Speed (mph) vs. Latitude Linear Regression"
   ]
  },
  {
   "cell_type": "code",
   "execution_count": 37,
   "metadata": {},
   "outputs": [
    {
     "name": "stdout",
     "output_type": "stream",
     "text": [
      "r-squared: -0.15072903649724323\n"
     ]
    },
    {
     "data": {
      "image/png": "[encoded data removed]",
      "text/plain": [
       "<Figure size 432x288 with 1 Axes>"
      ]
     },
     "metadata": {
      "needs_background": "light"
     },
     "output_type": "display_data"
    },
    {
     "data": {
      "text/plain": [
       "<Figure size 432x288 with 0 Axes>"
      ]
     },
     "metadata": {},
     "output_type": "display_data"
    }
   ],
   "source": [
    "#Northern Hemisphere - Wind Speed vs. Latitude\n",
    "x = north_df['Latitude']\n",
    "y = north_df['Wind Speed']\n",
    "line_regr(x,y,'Wind Speed (mph)')\n",
    "\n",
    "plt.savefig(\"NH_wind_vs_lat.png\")"
   ]
  },
  {
   "cell_type": "markdown",
   "metadata": {},
   "source": [
    "####  Southern Hemisphere - Wind Speed (mph) vs. Latitude Linear Regression"
   ]
  },
  {
   "cell_type": "code",
   "execution_count": 38,
   "metadata": {},
   "outputs": [
    {
     "name": "stdout",
     "output_type": "stream",
     "text": [
      "r-squared: -0.11010086729941153\n"
     ]
    },
    {
     "data": {
      "image/png": "[encoded data removed]",
      "text/plain": [
       "<Figure size 432x288 with 1 Axes>"
      ]
     },
     "metadata": {
      "needs_background": "light"
     },
     "output_type": "display_data"
    },
    {
     "data": {
      "text/plain": [
       "<Figure size 432x288 with 0 Axes>"
      ]
     },
     "metadata": {},
     "output_type": "display_data"
    }
   ],
   "source": [
    "#Southern Hemisphere - Wind Speed vs. Latitude\n",
    "x = south_df['Latitude']\n",
    "y = south_df['Wind Speed']\n",
    "line_regr(x,y,'Wind Speed (mph)')\n",
    "\n",
    "plt.savefig(\"SH_wind_vs_lat.png\")"
   ]
  },
  {
   "cell_type": "code",
   "execution_count": null,
   "metadata": {},
   "outputs": [],
   "source": [
    "#There shows very little correlation."
   ]
  }
 ],
 "metadata": {
  "anaconda-cloud": {},
  "kernel_info": {
   "name": "python3"
  },
  "kernelspec": {
   "display_name": "Python 3",
   "language": "python",
   "name": "python3"
  },
  "language_info": {
   "codemirror_mode": {
    "name": "ipython",
    "version": 3
   },
   "file_extension": ".py",
   "mimetype": "text/x-python",
   "name": "python",
   "nbconvert_exporter": "python",
   "pygments_lexer": "ipython3",
   "version": "3.8.5"
  },
  "latex_envs": {
   "LaTeX_envs_menu_present": true,
   "autoclose": false,
   "autocomplete": true,
   "bibliofile": "biblio.bib",
   "cite_by": "apalike",
   "current_citInitial": 1,
   "eqLabelWithNumbers": true,
   "eqNumInitial": 1,
   "hotkeys": {
    "equation": "Ctrl-E",
    "itemize": "Ctrl-I"
   },
   "labels_anchors": false,
   "latex_user_defs": false,
   "report_style_numbering": false,
   "user_envs_cfg": false
  },
  "nteract": {
   "version": "0.12.3"
  }
 },
 "nbformat": 4,
 "nbformat_minor": 2
}
